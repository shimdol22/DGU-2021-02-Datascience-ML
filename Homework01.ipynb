{
 "cells": [
  {
   "cell_type": "code",
   "execution_count": 1,
   "id": "eddf3a68",
   "metadata": {},
   "outputs": [],
   "source": [
    "import numpy as np\n",
    "import numpy as np\n",
    "import matplotlib.pyplot as plt\n",
    "from pytictoc import TicToc\n",
    "import math\n",
    "import numpy.matlib"
   ]
  },
  {
   "cell_type": "markdown",
   "id": "21560fee",
   "metadata": {},
   "source": [
    "# 1번 문제"
   ]
  },
  {
   "cell_type": "code",
   "execution_count": 2,
   "id": "6fbfe46c",
   "metadata": {},
   "outputs": [
    {
     "name": "stdout",
     "output_type": "stream",
     "text": [
      "[10 20 30 40 50] \n",
      "\n",
      "50 \n",
      "\n",
      "10 \n",
      "\n",
      "4\n",
      "0\n"
     ]
    }
   ],
   "source": [
    "x = np.array([10,20,30,40,50])\n",
    "print(x,'\\n')\n",
    "\n",
    "# np.max(), np.min()은 최대, 최소값을 찾아준다\n",
    "print(np.max(x),'\\n')\n",
    "print(np.min(x),'\\n')\n",
    "\n",
    "# np.argmax(), np.argmin()은 최대, 최소값의 인덱스를 반환한다. 최대값 50은 5번째 자리에 위치해 있으므로 인덱스는 4이다. \n",
    "print(np.argmax(x))\n",
    "print(np.argmin(x))"
   ]
  },
  {
   "cell_type": "code",
   "execution_count": 3,
   "id": "44ea64c9",
   "metadata": {},
   "outputs": [
    {
     "name": "stdout",
     "output_type": "stream",
     "text": [
      "[[1 2]\n",
      " [3 4]\n",
      " [5 6]\n",
      " [7 8]]\n",
      "[[1 2 5 6]\n",
      " [3 4 7 8]]\n"
     ]
    }
   ],
   "source": [
    "x = np.array([[1,2],[3,4]])\n",
    "z = np.array([[5,6],[7,8]])\n",
    "\n",
    "# append는 배열을 이어 붙여준다. \n",
    "arr = np.append(x,z, axis=0)\n",
    "print(arr)\n",
    "\n",
    "arr2 = np.append(x,z, axis=1)\n",
    "print(arr2)"
   ]
  },
  {
   "cell_type": "markdown",
   "id": "f4d78f01",
   "metadata": {},
   "source": [
    "# 2번 문제"
   ]
  },
  {
   "cell_type": "code",
   "execution_count": 4,
   "id": "5a94c2d5",
   "metadata": {},
   "outputs": [
    {
     "data": {
      "text/plain": [
       "<matplotlib.collections.PathCollection at 0x1a9fe0dba30>"
      ]
     },
     "execution_count": 4,
     "metadata": {},
     "output_type": "execute_result"
    },
    {
     "data": {
      "image/png": "[encoded data removed]",
      "text/plain": [
       "<Figure size 432x288 with 1 Axes>"
      ]
     },
     "metadata": {
      "needs_background": "light"
     },
     "output_type": "display_data"
    }
   ],
   "source": [
    "# 벡터의 차원\n",
    "D = 2\n",
    "# 랜덤으로 설정한 기준점\n",
    "z = np.random.randn(D)\n",
    "# 생성할 샘플의 개수\n",
    "N = 100\n",
    "# 기준이 되는 거리\n",
    "d_star = 2\n",
    "\n",
    "# BLANK1\n",
    "X = np.random.rand(N,D)*(5-(-5))+(-5)\n",
    "\n",
    "# BLANK2\n",
    "Z = np.matlib.repmat(z.reshape(1,2), N,1) # X랑 동일한 shape으로 생성 즉, (100,2)차원으로 변경\n",
    "dist = np.sqrt(np.sum((X - Z)**2, axis=1)) # 행렬의 각 원소의 차의 제곱   \n",
    "\n",
    "dist_max = np.max(dist)\n",
    "id_max = np.argmax(dist)\n",
    "id_long = np.where(dist >= d_star)\n",
    "theta = np.linspace(0,2*math.pi,100)\n",
    "x1 = d_star*np.cos(theta) + z[0]\n",
    "x2 = d_star*np.sin(theta) + z[1]\n",
    "plt.figure()\n",
    "ax = plt.subplot(1,1,1)\n",
    "\n",
    "# BLANK3\n",
    "ax.set_aspect('equal')\n",
    "plt.scatter(X[id_long, 0], X[id_long, 1], s=50, facecolor = 'cyan', edgecolor = 'w')\n",
    "plt.scatter(X[:,0], X[:,1], s=10, facecolor = 'gray')\n",
    "plt.scatter(z[0], z[1], marker='x', facecolor='red')\n",
    "plt.plot(x1,x2,color='black')\n",
    "plt.scatter(X[id_max,0],X[id_max,1] , marker='o', facecolor='blue')\n",
    "\n",
    "#plt.plot()"
   ]
  },
  {
   "cell_type": "markdown",
   "id": "02ac0518",
   "metadata": {},
   "source": [
    "# 3번 문제"
   ]
  },
  {
   "cell_type": "code",
   "execution_count": 5,
   "id": "703facc7",
   "metadata": {},
   "outputs": [
    {
     "name": "stdout",
     "output_type": "stream",
     "text": [
      "Elapsed time is 0.000101 seconds.\n",
      "Elapsed time is 0.000137 seconds.\n",
      "Elapsed time is 0.000304 seconds.\n",
      "Elapsed time is 0.000065 seconds.\n",
      "Elapsed time is 0.003063 seconds.\n",
      "Elapsed time is 0.000291 seconds.\n",
      "Elapsed time is 0.029652 seconds.\n",
      "Elapsed time is 0.000878 seconds.\n",
      "Elapsed time is 0.268305 seconds.\n",
      "Elapsed time is 0.006407 seconds.\n",
      "Elapsed time is 2.686443 seconds.\n",
      "Elapsed time is 0.064548 seconds.\n"
     ]
    },
    {
     "data": {
      "image/png": "[encoded data removed]",
      "text/plain": [
       "<Figure size 432x288 with 1 Axes>"
      ]
     },
     "metadata": {
      "needs_background": "light"
     },
     "output_type": "display_data"
    }
   ],
   "source": [
    "import numpy as np\n",
    "import numpy.matlib\n",
    "import matplotlib.pyplot as plt\n",
    "from pytictoc import TicToc\n",
    "\n",
    "# 벡터의 차원\n",
    "D = 5\n",
    "\n",
    "# 랜덤으로 설정한 기준점\n",
    "z = np.random.randn(D)\n",
    "\n",
    "# 생성할 샘플의 개수\n",
    "Nset = np.array([10, 100, 1000, 10000, 100000, 1000000])\n",
    "\n",
    "t = TicToc()\n",
    "t1 = []\n",
    "t2 = []\n",
    "\n",
    "for N in Nset:\n",
    "    X = np.random.rand(N,D) # X -> 10, 100, 1000, 10000, 100000, 1000000\n",
    "\n",
    "    t.tic()\n",
    "    dist1 = np.zeros(N)\n",
    "    for n in range(0,N):\n",
    "        #BLANK1\n",
    "        dist1[n] = np.sqrt((X[n,0] - z[0])**2 + (X[n,1] - z[1])**2) # X의 n번째 샘플을 기준점과 거리 계산\n",
    "    t.toc()\n",
    "    t1 = np.append(t1, t.tocvalue())\n",
    "\n",
    "    t.tic()\n",
    "    #BLANK2\n",
    "    Z = np.matlib.repmat(z,N,1)\n",
    "    dist2 = np.sqrt(np.sum((X-Z)**2, axis= 1))\n",
    "    t.toc()\n",
    "    t2 = np.append(t2, t.tocvalue()) \n",
    "\n",
    "    \n",
    "plt.figure()\n",
    "plt.plot(Nset, 1e3*t1)\n",
    "plt.plot(Nset, 1e3*t2)\n",
    "plt.xlabel(\"number of samples\")\n",
    "plt.ylabel(\"computation time [ms]\")\n",
    "plt.xscale(\"log\")\n",
    "plt.yscale(\"log\")"
   ]
  }
 ],
 "metadata": {
  "kernelspec": {
   "display_name": "Python 3",
   "language": "python",
   "name": "python3"
  },
  "language_info": {
   "codemirror_mode": {
    "name": "ipython",
    "version": 3
   },
   "file_extension": ".py",
   "mimetype": "text/x-python",
   "name": "python",
   "nbconvert_exporter": "python",
   "pygments_lexer": "ipython3",
   "version": "3.8.8"
  }
 },
 "nbformat": 4,
 "nbformat_minor": 5
}
