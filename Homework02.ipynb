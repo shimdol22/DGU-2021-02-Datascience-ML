{
 "cells": [
  {
   "cell_type": "markdown",
   "id": "7da088af",
   "metadata": {},
   "source": [
    "# 1번 문제"
   ]
  },
  {
   "cell_type": "code",
   "execution_count": 5,
   "id": "795f5a2c",
   "metadata": {},
   "outputs": [],
   "source": [
    "import numpy as np\n",
    "import numpy.matlib\n",
    "import matplotlib.pyplot as plt\n",
    "from scipy.stats import multivariate_normal\n",
    "X = np.genfromtxt('wine-clustering.csv', delimiter=',', skip_header = 1)\n",
    "Xmin = np.min(X, axis = 0)\n",
    "Xmax = np.max(X, axis = 0)\n",
    "X = (X - Xmin) / Xmax\n",
    "(N,D) = X.shape"
   ]
  },
  {
   "cell_type": "code",
   "execution_count": 6,
   "id": "c380aca5",
   "metadata": {},
   "outputs": [],
   "source": [
    "def train_kmeans(X, mu_init, maxIter):\n",
    "    mu_init = mu_init\n",
    "    \n",
    "    return labels"
   ]
  },
  {
   "cell_type": "code",
   "execution_count": 7,
   "id": "01e67db7",
   "metadata": {},
   "outputs": [],
   "source": [
    "def train_MoG(X, mu_init, maxIter):\n",
    "    return labels"
   ]
  },
  {
   "cell_type": "code",
   "execution_count": 8,
   "id": "984a00f2",
   "metadata": {},
   "outputs": [
    {
     "ename": "NameError",
     "evalue": "name 'labels' is not defined",
     "output_type": "error",
     "traceback": [
      "\u001b[1;31m---------------------------------------------------------------------------\u001b[0m",
      "\u001b[1;31mNameError\u001b[0m                                 Traceback (most recent call last)",
      "\u001b[1;32m<ipython-input-8-414163b75f54>\u001b[0m in \u001b[0;36m<module>\u001b[1;34m\u001b[0m\n\u001b[0;32m      2\u001b[0m \u001b[0mmaxIter\u001b[0m \u001b[1;33m=\u001b[0m \u001b[1;36m20\u001b[0m\u001b[1;33m\u001b[0m\u001b[1;33m\u001b[0m\u001b[0m\n\u001b[0;32m      3\u001b[0m \u001b[1;33m\u001b[0m\u001b[0m\n\u001b[1;32m----> 4\u001b[1;33m \u001b[0mlabel1\u001b[0m \u001b[1;33m=\u001b[0m \u001b[0mtrain_kmeans\u001b[0m\u001b[1;33m(\u001b[0m\u001b[0mX\u001b[0m\u001b[1;33m,\u001b[0m \u001b[0mmu_init\u001b[0m\u001b[1;33m,\u001b[0m \u001b[0mmaxIter\u001b[0m\u001b[1;33m)\u001b[0m\u001b[1;33m\u001b[0m\u001b[1;33m\u001b[0m\u001b[0m\n\u001b[0m\u001b[0;32m      5\u001b[0m \u001b[0mlabel2\u001b[0m \u001b[1;33m=\u001b[0m \u001b[0mtrain_MoG\u001b[0m\u001b[1;33m(\u001b[0m\u001b[0mX\u001b[0m\u001b[1;33m,\u001b[0m \u001b[0mmu_init\u001b[0m\u001b[1;33m,\u001b[0m \u001b[0mmaxIter\u001b[0m\u001b[1;33m)\u001b[0m\u001b[1;33m\u001b[0m\u001b[1;33m\u001b[0m\u001b[0m\n\u001b[0;32m      6\u001b[0m \u001b[1;33m\u001b[0m\u001b[0m\n",
      "\u001b[1;32m<ipython-input-6-fd8245df623b>\u001b[0m in \u001b[0;36mtrain_kmeans\u001b[1;34m(X, mu_init, maxIter)\u001b[0m\n\u001b[0;32m      1\u001b[0m \u001b[1;32mdef\u001b[0m \u001b[0mtrain_kmeans\u001b[0m\u001b[1;33m(\u001b[0m\u001b[0mX\u001b[0m\u001b[1;33m,\u001b[0m \u001b[0mmu_init\u001b[0m\u001b[1;33m,\u001b[0m \u001b[0mmaxIter\u001b[0m\u001b[1;33m)\u001b[0m\u001b[1;33m:\u001b[0m\u001b[1;33m\u001b[0m\u001b[1;33m\u001b[0m\u001b[0m\n\u001b[1;32m----> 2\u001b[1;33m     \u001b[1;32mreturn\u001b[0m \u001b[0mlabels\u001b[0m\u001b[1;33m\u001b[0m\u001b[1;33m\u001b[0m\u001b[0m\n\u001b[0m",
      "\u001b[1;31mNameError\u001b[0m: name 'labels' is not defined"
     ]
    }
   ],
   "source": [
    "mu_init = np.hstack([0.2*np.ones((13,1)), 0.6*np.ones((13,1))])# 0.2, 0.6 \n",
    "maxIter = 20\n",
    "\n",
    "label1 = train_kmeans(X, mu_init, maxIter)\n",
    "label2 = train_MoG(X, mu_init, maxIter)\n",
    "\n",
    "plt.figure(figsize = (15, 15))\n",
    "\n",
    "for i in range(0, D):\n",
    "    for j in range(0, D):\n",
    "        plt.subplot(D, D, (i + 1) + D*j)\n",
    "        for k in range(0,2):\n",
    "            plt.plot(X[label1 == k,i],X[label1 == k,j],\".\",markersize = 5)\n",
    "\n",
    "plt.figure(figsize = (15, 15))\n",
    "\n",
    "for i in range(0, D):\n",
    "    for j in range(0, D):\n",
    "        plt.subplot(D, D, (i + 1) + D*j)\n",
    "        for k in range(0,2):\n",
    "            plt.plot(X[label2 == k,i],X[label2 == k,j],\".\",markersize = 5)"
   ]
  },
  {
   "cell_type": "code",
   "execution_count": null,
   "id": "2daed9ca",
   "metadata": {},
   "outputs": [],
   "source": []
  }
 ],
 "metadata": {
  "kernelspec": {
   "display_name": "Python 3",
   "language": "python",
   "name": "python3"
  },
  "language_info": {
   "codemirror_mode": {
    "name": "ipython",
    "version": 3
   },
   "file_extension": ".py",
   "mimetype": "text/x-python",
   "name": "python",
   "nbconvert_exporter": "python",
   "pygments_lexer": "ipython3",
   "version": "3.8.8"
  }
 },
 "nbformat": 4,
 "nbformat_minor": 5
}
