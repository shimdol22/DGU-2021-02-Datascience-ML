{
 "cells": [
  {
   "cell_type": "markdown",
   "id": "7da088af",
   "metadata": {},
   "source": [
    "# 1번 문제"
   ]
  },
  {
   "cell_type": "code",
   "execution_count": 17,
   "id": "795f5a2c",
   "metadata": {},
   "outputs": [],
   "source": [
    "import numpy as np\n",
    "import numpy.matlib\n",
    "import matplotlib.pyplot as plt\n",
    "from scipy.stats import multivariate_normal\n",
    "\n",
    "X = np.genfromtxt('wine-clustering.csv', delimiter=',', skip_header = 1)\n",
    "\n",
    "Xmin = np.min(X, axis = 0)\n",
    "Xmax = np.max(X, axis = 0)\n",
    "X = (X - Xmin) / Xmax\n",
    "\n",
    "(N,D) = X.shape"
   ]
  },
  {
   "cell_type": "code",
   "execution_count": 18,
   "id": "6e4c66a3",
   "metadata": {},
   "outputs": [
    {
     "name": "stdout",
     "output_type": "stream",
     "text": [
      "(178, 13)\n",
      "178 13\n",
      "[[0.21577883 0.16724138 0.33126935 ... 0.32748538 0.6625     0.46845238]\n",
      " [0.14632502 0.17931034 0.24148607 ... 0.33333333 0.5325     0.45952381]\n",
      " [0.14362778 0.27931034 0.40557276 ... 0.32163743 0.475      0.53988095]\n",
      " ...\n",
      " [0.15104518 0.61034483 0.27863777 ... 0.06432749 0.0725     0.33154762]\n",
      " [0.14430209 0.31896552 0.3126935  ... 0.07017544 0.0875     0.33452381]\n",
      " [0.20903574 0.57931034 0.42724458 ... 0.07602339 0.0825     0.16785714]]\n"
     ]
    }
   ],
   "source": [
    "print(X.shape)\n",
    "print(N, D) # 샘플의 개수, 차원 (178개 13차원의 벡터)\n",
    "print(X)"
   ]
  },
  {
   "cell_type": "code",
   "execution_count": null,
   "id": "c380aca5",
   "metadata": {},
   "outputs": [],
   "source": [
    "def train_kmeans(X, mu_init, maxIter):\n",
    "    K=2\n",
    "    # n번째 sample부터, k번째 cluster의 중심까지의 거리**2\n",
    "    labels = np.zeros((N,K), dtype = bool) # 178,2\n",
    "\n",
    "    c = np.argmin(dist2, axis = 1)\n",
    "    labels = np.zeros((N,K), dtype = bool)\n",
    "    labels[np.arange(N),c] = 1\n",
    "    for iter in range(0,10):\n",
    "        for k in range(0,K):\n",
    "            labels[:,k] = np.sum((X - np.matlib.repmat(mu_init[k,:],N,1))**2, axis = 1)\n",
    "            #X -> 178,13\n",
    "            #np.matlib.repmat(mu_init[k,:],N,1) -> 178,2 \n",
    "\n",
    "        # 어느 cluster까지 제일 가까운지를 c에 저장\n",
    "        c = np.argmin(labels, axis = 1) # dist = (N x K), \n",
    "        \n",
    "        # 각 cluster에 대해 mu를 업데이트\n",
    "        for k in range(0,K):\n",
    "            mu_init[k,:] = np.mean(X[c == k,:], axis = 0)\n",
    "    print(labels)\n",
    "    #return labels"
   ]
  },
  {
   "cell_type": "code",
   "execution_count": null,
   "id": "bb3545a5",
   "metadata": {},
   "outputs": [],
   "source": [
    "mu_init = np.hstack([0.2*np.ones((13,1)), 0.6*np.ones((13,1))])# 0.2, 0.6 \n",
    "maxIter = 20\n",
    "\n",
    "\n",
    "label1 = train_kmeans(X, mu_init, maxIter)\n"
   ]
  },
  {
   "cell_type": "code",
   "execution_count": null,
   "id": "eea636a0",
   "metadata": {},
   "outputs": [],
   "source": [
    "plt.figure(figsize = (15, 15))\n",
    "\n",
    "for i in range(0, D):\n",
    "    for j in range(0, D):\n",
    "        plt.subplot(D, D, (i + 1) + D*j)\n",
    "        for k in range(0,2):\n",
    "            plt.plot(X[label1 == k,i],X[label1 == k,j],\".\",markersize = 5)"
   ]
  },
  {
   "cell_type": "code",
   "execution_count": null,
   "id": "fdb4b114",
   "metadata": {},
   "outputs": [],
   "source": [
    "a = np.matlib.repmat(mu_init[2,:],178,1)\n",
    "print(a.shape)\n",
    "#print(mu_init)\n",
    "#print(mu_init.shape)\n"
   ]
  },
  {
   "cell_type": "code",
   "execution_count": null,
   "id": "59e3b92e",
   "metadata": {},
   "outputs": [],
   "source": [
    "print(mu_init.shape)"
   ]
  },
  {
   "cell_type": "code",
   "execution_count": null,
   "id": "01e67db7",
   "metadata": {},
   "outputs": [],
   "source": [
    "def train_MoG(X, mu_init, maxIter):\n",
    "    return labels"
   ]
  },
  {
   "cell_type": "code",
   "execution_count": null,
   "id": "984a00f2",
   "metadata": {},
   "outputs": [],
   "source": [
    "mu_init = np.hstack([0.2*np.ones((13,1)), 0.6*np.ones((13,1))])# 0.2, 0.6 \n",
    "maxIter = 20\n",
    "\n",
    "label1 = train_kmeans(X, mu_init, maxIter)\n",
    "label2 = train_MoG(X, mu_init, maxIter)\n",
    "\n",
    "plt.figure(figsize = (15, 15))\n",
    "\n",
    "for i in range(0, D):\n",
    "    for j in range(0, D):\n",
    "        plt.subplot(D, D, (i + 1) + D*j)\n",
    "        for k in range(0,2):\n",
    "            plt.plot(X[label1 == k,i],X[label1 == k,j],\".\",markersize = 5)\n",
    "\n",
    "plt.figure(figsize = (15, 15))\n",
    "\n",
    "for i in range(0, D):\n",
    "    for j in range(0, D):\n",
    "        plt.subplot(D, D, (i + 1) + D*j)\n",
    "        for k in range(0,2):\n",
    "            plt.plot(X[label2 == k,i],X[label2 == k,j],\".\",markersize = 5)"
   ]
  },
  {
   "cell_type": "code",
   "execution_count": null,
   "id": "2daed9ca",
   "metadata": {},
   "outputs": [],
   "source": []
  }
 ],
 "metadata": {
  "kernelspec": {
   "display_name": "Python 3",
   "language": "python",
   "name": "python3"
  },
  "language_info": {
   "codemirror_mode": {
    "name": "ipython",
    "version": 3
   },
   "file_extension": ".py",
   "mimetype": "text/x-python",
   "name": "python",
   "nbconvert_exporter": "python",
   "pygments_lexer": "ipython3",
   "version": "3.8.8"
  }
 },
 "nbformat": 4,
 "nbformat_minor": 5
}
