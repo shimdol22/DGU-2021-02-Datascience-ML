{
 "cells": [
  {
   "cell_type": "code",
   "execution_count": 10,
   "id": "ca4ab774",
   "metadata": {},
   "outputs": [
    {
     "name": "stdout",
     "output_type": "stream",
     "text": [
      "[1 2 3]\n",
      "[[1 2 3]\n",
      " [4 5 6]\n",
      " [5 6 7]]\n",
      "[[1 2]\n",
      " [2 3]]\n"
     ]
    }
   ],
   "source": [
    "import numpy as np\n",
    "\n",
    "a = np.array([1,2,3]) # 벡터\n",
    "b = np.array([[1,2,3],[4,5,6],[5,6,7]]) # 3x3 행렬\n",
    "c = np.array([[1,2],[2,3]])\n",
    "\n",
    "print(a)\n",
    "print(b)\n",
    "print(c)"
   ]
  },
  {
   "cell_type": "code",
   "execution_count": 33,
   "id": "c7e2e3cc",
   "metadata": {},
   "outputs": [
    {
     "name": "stdout",
     "output_type": "stream",
     "text": [
      "1\n",
      "2 \n",
      "\n",
      "(3,)\n",
      "(3, 3) \n",
      "\n",
      "3\n",
      "9\n"
     ]
    }
   ],
   "source": [
    "print(a.ndim) # 차원을 보여줌 1=벡터 2=행렬\n",
    "print(b.ndim,'\\n')\n",
    "\n",
    "print(a.shape) # 3, -> 3,1\n",
    "print(b.shape,'\\n')\n",
    "\n",
    "print(a.size) # 스칼라가 몇 개 있는지 (원소가 몇개인지)\n",
    "print(b.size)"
   ]
  },
  {
   "cell_type": "code",
   "execution_count": 20,
   "id": "5a916dae",
   "metadata": {},
   "outputs": [
    {
     "name": "stdout",
     "output_type": "stream",
     "text": [
      "[[0. 0.]\n",
      " [0. 0.]\n",
      " [0. 0.]] \n",
      "\n",
      "[[1. 1. 1. 1.]\n",
      " [1. 1. 1. 1.]\n",
      " [1. 1. 1. 1.]] \n",
      "\n",
      "[[5 5 5]\n",
      " [5 5 5]]\n"
     ]
    }
   ],
   "source": [
    "x = np.zeros((3,2)) # float 타입으로 만들어짐\n",
    "y = np.ones((3,4)) # float 타입으로 만들어짐\n",
    "z = np.full((2,3), 5) # 5로 가득찬 2x3행렬, int 타입으로 만들어짐\n",
    "\n",
    "print(x,'\\n')\n",
    "print(y, '\\n')\n",
    "print(z)"
   ]
  },
  {
   "cell_type": "code",
   "execution_count": 30,
   "id": "1749a046",
   "metadata": {},
   "outputs": [
    {
     "name": "stdout",
     "output_type": "stream",
     "text": [
      "[0 1 2 3 4 5 6 7 8 9]\n",
      "[0 2 4 6 8]\n",
      "[ 0.   2.5  5.   7.5 10. ]\n"
     ]
    }
   ],
   "source": [
    "# np.arange\n",
    "x = np.arange(0,10)\n",
    "x2 = np.arange(0, 10, 2)\n",
    "print(x)\n",
    "print(x2)\n",
    "\n",
    "# np.linspace(초기값, 끝나는값(포함), 개수)\n",
    "y = np.linspace(0, 10, 5)\n",
    "\n",
    "print(y)"
   ]
  },
  {
   "cell_type": "code",
   "execution_count": 44,
   "id": "ec6782a0",
   "metadata": {},
   "outputs": [
    {
     "name": "stdout",
     "output_type": "stream",
     "text": [
      "[0 1 2 3 4 5 6 7 8 9] \n",
      "\n",
      "[[0 1]\n",
      " [2 3]\n",
      " [4 5]\n",
      " [6 7]\n",
      " [8 9]]\n"
     ]
    }
   ],
   "source": [
    "a = np.arange(0,10)\n",
    "print(a,'\\n')\n",
    "\n",
    "b = a.reshape(5,2) # -1로 넣으면 가변적이라는 뜻 즉, 2x5 가 됨 순서가 중요함!\n",
    "print(b)"
   ]
  },
  {
   "cell_type": "code",
   "execution_count": 54,
   "id": "0058a5cf",
   "metadata": {},
   "outputs": [
    {
     "name": "stdout",
     "output_type": "stream",
     "text": [
      "[[0 1]\n",
      " [2 3]\n",
      " [4 5]\n",
      " [6 7]\n",
      " [8 9]] \n",
      "\n",
      "0\n",
      "9 \n",
      "\n",
      "[1 3 5 7 9] \n",
      "\n",
      "[2 3]\n",
      "[[4 5]\n",
      " [6 7]\n",
      " [8 9]]\n"
     ]
    }
   ],
   "source": [
    "# b[행,렬]\n",
    "print(b,'\\n')\n",
    "print(b[0,0])\n",
    "print(b[4,1],'\\n')\n",
    "print(b[:,1],'\\n') # 모든행, 첫번째 열\n",
    "print(b[1,:])\n",
    "print(b[2:5])\n"
   ]
  },
  {
   "cell_type": "code",
   "execution_count": 75,
   "id": "904e025d",
   "metadata": {},
   "outputs": [
    {
     "name": "stdout",
     "output_type": "stream",
     "text": [
      "[[ 0  1  2]\n",
      " [ 3  4  5]\n",
      " [ 6  7  8]\n",
      " [ 9 10 11]] \n",
      "\n",
      "[[ 3  4  5]\n",
      " [ 6  7  8]\n",
      " [ 9 10 11]] \n",
      "\n",
      "[8] \n",
      "\n",
      "[1 2] \n",
      "\n",
      "[ 7 10] \n",
      "\n",
      "[1 4] \n",
      "\n",
      "[[5]\n",
      " [8]] \n",
      "\n",
      "[[ 4  5]\n",
      " [ 7  8]\n",
      " [10 11]] \n",
      "\n",
      "11 \n",
      "\n",
      "[[ 4]\n",
      " [ 7]\n",
      " [10]] \n",
      "\n",
      "0\n"
     ]
    }
   ],
   "source": [
    "c = np.arange(0,12)\n",
    "c = c.reshape(4,3)\n",
    "print(c,'\\n')\n",
    "\n",
    "# c[시작지점:끝지점(포함)]\n",
    "print(c[1:4],'\\n') \n",
    "print(c[2,2:],'\\n')\n",
    "print(c[0,1:],'\\n')\n",
    "print(c[2:,1],'\\n')\n",
    "\n",
    "print(c[:2, 1],'\\n')\n",
    "print(c[1:3,2:],'\\n')\n",
    "print(c[1:,1:],'\\n')\n",
    "\n",
    "print(c[-1,-1],'\\n')\n",
    "print(c[1:,1:-1],'\\n') # 1번째 행부터 끝까지, 1번째열부터 맨마지막은 빼고\n",
    "print(c[-4,-3],'\\n')"
   ]
  },
  {
   "cell_type": "code",
   "execution_count": null,
   "id": "0cdd0570",
   "metadata": {},
   "outputs": [],
   "source": []
  }
 ],
 "metadata": {
  "kernelspec": {
   "display_name": "Python 3",
   "language": "python",
   "name": "python3"
  },
  "language_info": {
   "codemirror_mode": {
    "name": "ipython",
    "version": 3
   },
   "file_extension": ".py",
   "mimetype": "text/x-python",
   "name": "python",
   "nbconvert_exporter": "python",
   "pygments_lexer": "ipython3",
   "version": "3.8.8"
  }
 },
 "nbformat": 4,
 "nbformat_minor": 5
}
